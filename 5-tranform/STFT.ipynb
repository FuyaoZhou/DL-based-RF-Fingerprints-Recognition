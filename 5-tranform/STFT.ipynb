{
 "cells": [
  {
   "cell_type": "code",
   "execution_count": 3,
   "metadata": {},
   "outputs": [
    {
     "name": "stdout",
     "output_type": "stream",
     "text": [
      "Train data shape: (2016000, 206, 1)\n",
      "Train labels shape: (126000, 10)\n",
      "Test data shape: (224000, 206, 1)\n",
      "Test labels shape: (14000, 10)\n"
     ]
    }
   ],
   "source": [
    "import os\n",
    "import numpy as np\n",
    "import scipy.io as sio\n",
    "import scipy.signal\n",
    "from tensorflow.keras.utils import to_categorical\n",
    "from tensorflow.keras.models import Sequential\n",
    "from tensorflow.keras.layers import Dense, Flatten, Conv2D, MaxPooling2D, Dropout\n",
    "import tensorflow as tf\n",
    "\n",
    "def load_data_from_mat_with_stft(path, fs=96, nperseg=30, noverlap=15):\n",
    "    train_data = []\n",
    "    train_labels = []\n",
    "    test_data = []\n",
    "    test_labels = []\n",
    "\n",
    "    for file in os.listdir(path):\n",
    "        if file.startswith('train_'):\n",
    "            mat = sio.loadmat(os.path.join(path, file))\n",
    "            for i in range(mat[list(mat.keys())[-2]].shape[0]):\n",
    "                _, _, Zxx = scipy.signal.stft(mat[list(mat.keys())[-2]][i], fs=fs, nperseg=nperseg, noverlap=noverlap)\n",
    "                train_data.append(np.abs(Zxx))\n",
    "            train_labels.append(mat[list(mat.keys())[-1]])\n",
    "        elif file.startswith('test_'):\n",
    "            mat = sio.loadmat(os.path.join(path, file))\n",
    "            for i in range(mat[list(mat.keys())[-2]].shape[0]):\n",
    "                _, _, Zxx = scipy.signal.stft(mat[list(mat.keys())[-2]][i], fs=fs, nperseg=nperseg, noverlap=noverlap)\n",
    "                test_data.append(np.abs(Zxx))\n",
    "            test_labels.append(mat[list(mat.keys())[-1]])\n",
    "\n",
    "    # 合并数据\n",
    "    train_data = np.concatenate(train_data, axis=0)\n",
    "    train_labels = np.concatenate(train_labels, axis=0)\n",
    "    test_data = np.concatenate(test_data, axis=0)\n",
    "    test_labels = np.concatenate(test_labels, axis=0)\n",
    "\n",
    "    # 数据预处理\n",
    "    # 根据STFT结果调整形状，并确保维度匹配模型输入层的要求\n",
    "    # 此处reshape为(-1, height, width, channels)是示例，实际需要根据STFT结果调整\n",
    "    train_data = np.log1p(train_data)  # 对数缩放\n",
    "    test_data = np.log1p(test_data)\n",
    "    train_data = np.expand_dims(train_data, axis=-1)\n",
    "    test_data = np.expand_dims(test_data, axis=-1)\n",
    "    # 数据归一化\n",
    "    train_data = train_data.astype('float32') / np.max(train_data)\n",
    "    test_data = test_data.astype('float32') / np.max(test_data)\n",
    "\n",
    "    # 标签转换为one-hot编码\n",
    "    train_labels = to_categorical(train_labels, 10)\n",
    "    test_labels = to_categorical(test_labels, 10)\n",
    "\n",
    "    return train_data, train_labels, test_data, test_labels\n",
    "\n",
    "# 加载数据并应用STFT变换\n",
    "path = '/Users/fuyao/Documents/GitHub/DL-based-RF-Fingerprints-Recognition/database/'\n",
    "train_data_stft, train_labels, test_data_stft, test_labels = load_data_from_mat_with_stft(path)\n",
    "\n",
    "print('Train data shape:', train_data_stft.shape)\n",
    "print('Train labels shape:', train_labels.shape)\n",
    "print('Test data shape:', test_data_stft.shape)\n",
    "print('Test labels shape:', test_labels.shape)\n"
   ]
  }
 ],
 "metadata": {
  "kernelspec": {
   "display_name": "Python 3",
   "language": "python",
   "name": "python3"
  },
  "language_info": {
   "codemirror_mode": {
    "name": "ipython",
    "version": 3
   },
   "file_extension": ".py",
   "mimetype": "text/x-python",
   "name": "python",
   "nbconvert_exporter": "python",
   "pygments_lexer": "ipython3",
   "version": "3.12.2"
  }
 },
 "nbformat": 4,
 "nbformat_minor": 2
}
